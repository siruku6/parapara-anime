{
  "nbformat": 4,
  "nbformat_minor": 0,
  "metadata": {
    "colab": {
      "provenance": [],
      "include_colab_link": true
    },
    "kernelspec": {
      "name": "python3",
      "display_name": "Python 3"
    },
    "language_info": {
      "name": "python"
    }
  },
  "cells": [
    {
      "cell_type": "markdown",
      "metadata": {
        "id": "view-in-github",
        "colab_type": "text"
      },
      "source": [
        "<a href=\"https://colab.research.google.com/github/siruku6/parapara-anime/blob/master/250429_sample_usage_for_gymnasium.ipynb\" target=\"_parent\"><img src=\"https://colab.research.google.com/assets/colab-badge.svg\" alt=\"Open In Colab\"/></a>"
      ]
    },
    {
      "cell_type": "markdown",
      "source": [
        "# [Sample] Visualize the behavior of Gymnasium pendulum-v1\n",
        "\n",
        "The sample usage of `parapara-anime` is shown below utilizing the env \"pendulum-v1\" of `gymnasium==1.0.0`.\n"
      ],
      "metadata": {
        "id": "FjchLH2Qrg8E"
      }
    },
    {
      "cell_type": "markdown",
      "source": [
        "\n",
        "## 1. Dependencies\n",
        "\n",
        "You have to install the package `xvfb` for using `parapara-anime`. In addtion to it, `ipython>=8.0.0` is required.\n",
        "\n",
        "Therefore, the following lines are necessary if you work on Google Colaboratory.\n"
      ],
      "metadata": {
        "id": "1eQAuiIOvDCi"
      }
    },
    {
      "cell_type": "code",
      "execution_count": null,
      "metadata": {
        "id": "w4_FoVYirbtS"
      },
      "outputs": [],
      "source": [
        "!apt-get -qq -y install xvfb\n",
        "!pip install -q ipython>=8.0.0 parapara-anime\n",
        "!pip install -q gymnasium==1.0.0\n"
      ]
    },
    {
      "cell_type": "markdown",
      "source": [
        "## 2. Import modules"
      ],
      "metadata": {
        "id": "7UcDGTyVupS1"
      }
    },
    {
      "cell_type": "code",
      "source": [
        "import numpy as np\n",
        "import gymnasium\n",
        "from tqdm.notebook import tqdm\n",
        "\n",
        "from parapara.generator import play_anim\n"
      ],
      "metadata": {
        "id": "Wh_4PQVAsAiD"
      },
      "execution_count": null,
      "outputs": []
    },
    {
      "cell_type": "markdown",
      "source": [
        "## 3. Visualize the behavior of environment"
      ],
      "metadata": {
        "id": "koJTxBsduuEY"
      }
    },
    {
      "cell_type": "code",
      "source": [
        "env = gymnasium.make(\"Pendulum-v1\", render_mode=\"rgb_array\")\n",
        "env.action_space.seed(42)\n",
        "state, info = env.reset(seed=42)\n",
        "\n",
        "\n",
        "# The items of an array frames will be visualized.\n",
        "frames: list[np.ndarray] = []\n",
        "\n",
        "for _ in tqdm(range(200)):\n",
        "    action = env.action_space.sample()\n",
        "    observation, reward, terminated, truncated, info = env.step([action])\n",
        "    done = terminated or truncated\n",
        "    state = observation\n",
        "\n",
        "    frames.append(env.render())\n",
        "    if done:\n",
        "        env.reset()\n",
        "\n",
        "env.close()\n",
        "\n",
        "\n",
        "# At last, you have to pass the variable frames into the function `play_anim`\n",
        "result = play_anim(frames)\n",
        "\n",
        "# You can visualize the behavior of the Gymnasium environment\n",
        "# by writing the output of the play_anim function in the last line and running the cell.\n",
        "result\n"
      ],
      "metadata": {
        "id": "JYc-HsuvsKl3"
      },
      "execution_count": null,
      "outputs": []
    }
  ]
}