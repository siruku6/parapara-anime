{
 "cells": [
  {
   "cell_type": "code",
   "execution_count": null,
   "id": "e17795ec-a4d3-4a71-a833-33636bb50985",
   "metadata": {},
   "outputs": [],
   "source": [
    "from tqdm.notebook import tqdm\n",
    "\n",
    "import matplotlib.pyplot as plt\n",
    "import numpy as np\n",
    "\n",
    "from parapara.generator import to_numpy, play_anim\n"
   ]
  },
  {
   "cell_type": "code",
   "execution_count": null,
   "id": "99e502ee-c8a8-4ed1-ba70-8cc346feee9d",
   "metadata": {},
   "outputs": [],
   "source": [
    "steps: int = 100\n",
    "y: list[float] = []\n",
    "frames: list[np.ndarray] = []\n",
    "\n",
    "for i in tqdm(range(steps)):\n",
    "    # ------------------------------------------------\n",
    "    # prepare x, y\n",
    "    # ------------------------------------------------\n",
    "    x: np.ndarray = np.arange(0, i + 1)\n",
    "    y.append(np.random.randn())\n",
    "\n",
    "    # ------------------------------------------------\n",
    "    # make Figure\n",
    "    # ------------------------------------------------\n",
    "    fig: plt.Figure = plt.figure(figsize=(4, 4))\n",
    "    ax = fig.add_subplot(111)\n",
    "    # ax = fig.add_subplot(111, projection=\"3d\")\n",
    "    ax.set_title(f\"Step: {i + 1} / {steps}\")\n",
    "    ax.plot(x, y)\n",
    "\n",
    "    # ------------------------------------------------\n",
    "    # Create a parapara-image made of numpy-array\n",
    "    # ------------------------------------------------\n",
    "    frames.append(to_numpy(fig))\n",
    "    plt.close()\n",
    "\n",
    "\n",
    "\n",
    "res = play_anim(frames)\n",
    "res"
   ]
  }
 ],
 "metadata": {
  "kernelspec": {
   "display_name": "Python 3 (ipykernel)",
   "language": "python",
   "name": "python3"
  },
  "language_info": {
   "codemirror_mode": {
    "name": "ipython",
    "version": 3
   },
   "file_extension": ".py",
   "mimetype": "text/x-python",
   "name": "python",
   "nbconvert_exporter": "python",
   "pygments_lexer": "ipython3",
   "version": "3.11.9"
  }
 },
 "nbformat": 4,
 "nbformat_minor": 5
}
